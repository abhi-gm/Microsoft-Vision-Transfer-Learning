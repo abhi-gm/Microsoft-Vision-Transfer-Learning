{
  "nbformat": 4,
  "nbformat_minor": 0,
  "metadata": {
    "accelerator": "GPU",
    "colab": {
      "name": "Microsoft_Vision_TransferLearning.ipynb",
      "provenance": [],
      "collapsed_sections": [],
      "include_colab_link": true
    },
    "kernelspec": {
      "display_name": "Python 3",
      "name": "python3"
    }
  },
  "cells": [
    {
      "cell_type": "markdown",
      "metadata": {
        "id": "view-in-github",
        "colab_type": "text"
      },
      "source": [
        "<a href=\"https://colab.research.google.com/github/abhi-gm/Microsoft-Vision-Transfer-Learning/blob/main/Microsoft_Vision_TransferLearning.ipynb\" target=\"_parent\"><img src=\"https://colab.research.google.com/assets/colab-badge.svg\" alt=\"Open In Colab\"/></a>"
      ]
    },
    {
      "cell_type": "markdown",
      "metadata": {
        "id": "Ai_hZFWAn9RN"
      },
      "source": [
        "# **1. Introduction**\n",
        "\n",
        "Aim of the notebook is to provide an example for using state of the art Microsoft Vision Model for transfer learning to classify the Fruits with 81 classes.\n",
        "\n",
        "**Data** - can be dowloaded [here](https://data.mendeley.com/datasets/rp73yg93n8/1/files/56487963-3773-495e-a4fc-c1862b6daf91)"
      ]
    },
    {
      "cell_type": "code",
      "metadata": {
        "id": "4JXgo6uRYWHj"
      },
      "source": [
        "# importing reguired files\n",
        "import os\n",
        "from shutil import copyfile\n",
        "from os import getcwd\n",
        "import shutil\n",
        "import copy\n",
        "import time\n",
        "import torch\n",
        "import helper\n",
        "import zipfile\n",
        "import numpy as np\n",
        "import torch.nn as nn\n",
        "import matplotlib.pyplot as plt\n",
        "from torch import Tensor\n",
        "from torchvision import datasets\n",
        "import torch.nn.functional as F\n",
        "import torch.optim as optim\n",
        "from progressbar import progressbar\n",
        "from torch.optim import lr_scheduler\n",
        "import torchvision.transforms as transforms\n",
        "from torch.utils.data import DataLoader, TensorDataset"
      ],
      "execution_count": 2,
      "outputs": []
    },
    {
      "cell_type": "markdown",
      "metadata": {
        "id": "aSUaGLG5mkpo"
      },
      "source": [
        "# **2. Download the Data**"
      ]
    },
    {
      "cell_type": "code",
      "metadata": {
        "colab": {
          "base_uri": "https://localhost:8080/"
        },
        "id": "igrxUhVHgBB0",
        "outputId": "809607b6-b677-42cd-c596-fe734b3dd9e1"
      },
      "source": [
        "\n",
        "!wget --no-check-certificate \\\n",
        "    https://data.mendeley.com/public-files/datasets/rp73yg93n8/files/56487963-3773-495e-a4fc-c1862b6daf91/file_downloaded \\\n",
        "    -O /content/fruits-360_dataset.zip"
      ],
      "execution_count": 3,
      "outputs": [
        {
          "output_type": "stream",
          "text": [
            "--2021-08-01 19:55:02--  https://data.mendeley.com/public-files/datasets/rp73yg93n8/files/56487963-3773-495e-a4fc-c1862b6daf91/file_downloaded\n",
            "Resolving data.mendeley.com (data.mendeley.com)... 162.159.133.86, 162.159.130.86\n",
            "Connecting to data.mendeley.com (data.mendeley.com)|162.159.133.86|:443... connected.\n",
            "HTTP request sent, awaiting response... 302 Found\n",
            "Location: https://md-datasets-public-files-prod.s3.eu-west-1.amazonaws.com/8648f1ec-9c4c-4bad-8f85-230041d37a39 [following]\n",
            "--2021-08-01 19:55:03--  https://md-datasets-public-files-prod.s3.eu-west-1.amazonaws.com/8648f1ec-9c4c-4bad-8f85-230041d37a39\n",
            "Resolving md-datasets-public-files-prod.s3.eu-west-1.amazonaws.com (md-datasets-public-files-prod.s3.eu-west-1.amazonaws.com)... 52.218.112.32\n",
            "Connecting to md-datasets-public-files-prod.s3.eu-west-1.amazonaws.com (md-datasets-public-files-prod.s3.eu-west-1.amazonaws.com)|52.218.112.32|:443... connected.\n",
            "HTTP request sent, awaiting response... 200 OK\n",
            "Length: 425342676 (406M) [application/zip]\n",
            "Saving to: ‘/content/fruits-360_dataset.zip’\n",
            "\n",
            "/content/fruits-360 100%[===================>] 405.64M  19.8MB/s    in 21s     \n",
            "\n",
            "2021-08-01 19:55:25 (18.9 MB/s) - ‘/content/fruits-360_dataset.zip’ saved [425342676/425342676]\n",
            "\n"
          ],
          "name": "stdout"
        }
      ]
    },
    {
      "cell_type": "markdown",
      "metadata": {
        "id": "VF0N28YBnS3l"
      },
      "source": [
        "## **2.1 Unzip the data**"
      ]
    },
    {
      "cell_type": "code",
      "metadata": {
        "id": "ffJ8h2hwgA7D"
      },
      "source": [
        "local_zip = '/content/fruits-360_dataset.zip'\n",
        "zip_ref = zipfile.ZipFile(local_zip, 'r')\n",
        "zip_ref.extractall('/content/')\n",
        "zip_ref.close()"
      ],
      "execution_count": 4,
      "outputs": []
    },
    {
      "cell_type": "markdown",
      "metadata": {
        "id": "z2rFnng-nmoq"
      },
      "source": [
        "# **3. Prepare the Dataset**"
      ]
    },
    {
      "cell_type": "code",
      "metadata": {
        "colab": {
          "base_uri": "https://localhost:8080/"
        },
        "id": "19L5ob01xwGC",
        "outputId": "2b7af619-fc1c-40b1-b6b0-7ec771ca8a1b"
      },
      "source": [
        "!pip install split-folders tqdm"
      ],
      "execution_count": 5,
      "outputs": [
        {
          "output_type": "stream",
          "text": [
            "Collecting split-folders\n",
            "  Downloading split_folders-0.4.3-py3-none-any.whl (7.4 kB)\n",
            "Requirement already satisfied: tqdm in /usr/local/lib/python3.7/dist-packages (4.41.1)\n",
            "Installing collected packages: split-folders\n",
            "Successfully installed split-folders-0.4.3\n"
          ],
          "name": "stdout"
        }
      ]
    },
    {
      "cell_type": "markdown",
      "metadata": {
        "id": "AmKZtN5JoJub"
      },
      "source": [
        "## **3.1 Split the Training Dataset into train and validation sets**"
      ]
    },
    {
      "cell_type": "code",
      "metadata": {
        "colab": {
          "base_uri": "https://localhost:8080/"
        },
        "id": "pc9x6SqesNbr",
        "outputId": "88d382a3-8f62-46d2-c92d-8e97de58d74e"
      },
      "source": [
        "import splitfolders  \n",
        "\n",
        "destination = '/content/fruits-360/'\n",
        "source = '/content/fruits-360/' +'Training/'\n",
        "splitfolders.ratio(source, output=destination, seed=1337, ratio=(0.8, 0.2, 0), group_prefix=None)\n",
        "shutil.rmtree('/content/fruits-360/test')"
      ],
      "execution_count": 6,
      "outputs": [
        {
          "output_type": "stream",
          "text": [
            "Copying files: 41322 files [00:05, 6898.54 files/s]\n"
          ],
          "name": "stderr"
        }
      ]
    },
    {
      "cell_type": "markdown",
      "metadata": {
        "id": "LphLTXuaor3d"
      },
      "source": [
        "## **3.2 Define dir path**"
      ]
    },
    {
      "cell_type": "code",
      "metadata": {
        "id": "GEQ8GM8HS6zG"
      },
      "source": [
        "# define the path required to access the data\n",
        "\n",
        "base_dir = '/content/fruits-360/'\n",
        "train_dir = os.path.join(base_dir, 'Training')\n",
        "validation_dir = os.path.join(base_dir, 'val/')\n",
        "test_dir = os.path.join(base_dir,'Test/')"
      ],
      "execution_count": 7,
      "outputs": []
    },
    {
      "cell_type": "markdown",
      "metadata": {
        "id": "S9Y-HAcppNDW"
      },
      "source": [
        "# **4. Feature Extraction using Microsoft vision**"
      ]
    },
    {
      "cell_type": "markdown",
      "metadata": {
        "id": "GT35ufSFnYrV"
      },
      "source": [
        "## **4.1 Install Microsoft Vision** "
      ]
    },
    {
      "cell_type": "code",
      "metadata": {
        "colab": {
          "base_uri": "https://localhost:8080/"
        },
        "id": "lwOpJFlyXcRd",
        "outputId": "01e71656-ba59-4a05-a474-a2e39041093b"
      },
      "source": [
        "# install the microsoft vision module\n",
        "!pip install microsoftvision\n",
        "\n",
        "#import the microsft vision module\n",
        "import microsoftvision"
      ],
      "execution_count": 8,
      "outputs": [
        {
          "output_type": "stream",
          "text": [
            "Collecting microsoftvision\n",
            "  Downloading microsoftvision-1.0.5-py3-none-any.whl (5.7 kB)\n",
            "Requirement already satisfied: torch>=1.2.0 in /usr/local/lib/python3.7/dist-packages (from microsoftvision) (1.9.0+cu102)\n",
            "Requirement already satisfied: tqdm in /usr/local/lib/python3.7/dist-packages (from microsoftvision) (4.41.1)\n",
            "Collecting azure-storage-blob\n",
            "  Downloading azure_storage_blob-12.8.1-py2.py3-none-any.whl (345 kB)\n",
            "\u001b[K     |████████████████████████████████| 345 kB 7.0 MB/s \n",
            "\u001b[?25hCollecting azure-identity\n",
            "  Downloading azure_identity-1.6.0-py2.py3-none-any.whl (108 kB)\n",
            "\u001b[K     |████████████████████████████████| 108 kB 15.0 MB/s \n",
            "\u001b[?25hRequirement already satisfied: typing-extensions in /usr/local/lib/python3.7/dist-packages (from torch>=1.2.0->microsoftvision) (3.7.4.3)\n",
            "Collecting msal<2.0.0,>=1.7.0\n",
            "  Downloading msal-1.13.0-py2.py3-none-any.whl (67 kB)\n",
            "\u001b[K     |████████████████████████████████| 67 kB 4.5 MB/s \n",
            "\u001b[?25hCollecting cryptography>=2.1.4\n",
            "  Downloading cryptography-3.4.7-cp36-abi3-manylinux2014_x86_64.whl (3.2 MB)\n",
            "\u001b[K     |████████████████████████████████| 3.2 MB 13.2 MB/s \n",
            "\u001b[?25hRequirement already satisfied: six>=1.12.0 in /usr/local/lib/python3.7/dist-packages (from azure-identity->microsoftvision) (1.15.0)\n",
            "Collecting azure-core<2.0.0,>=1.0.0\n",
            "  Downloading azure_core-1.16.0-py2.py3-none-any.whl (163 kB)\n",
            "\u001b[K     |████████████████████████████████| 163 kB 47.5 MB/s \n",
            "\u001b[?25hCollecting msal-extensions~=0.3.0\n",
            "  Downloading msal_extensions-0.3.0-py2.py3-none-any.whl (16 kB)\n",
            "Requirement already satisfied: requests>=2.18.4 in /usr/local/lib/python3.7/dist-packages (from azure-core<2.0.0,>=1.0.0->azure-identity->microsoftvision) (2.23.0)\n",
            "Requirement already satisfied: cffi>=1.12 in /usr/local/lib/python3.7/dist-packages (from cryptography>=2.1.4->azure-identity->microsoftvision) (1.14.6)\n",
            "Requirement already satisfied: pycparser in /usr/local/lib/python3.7/dist-packages (from cffi>=1.12->cryptography>=2.1.4->azure-identity->microsoftvision) (2.20)\n",
            "Collecting PyJWT[crypto]<3,>=1.0.0\n",
            "  Downloading PyJWT-2.1.0-py3-none-any.whl (16 kB)\n",
            "Collecting portalocker~=1.0\n",
            "  Downloading portalocker-1.7.1-py2.py3-none-any.whl (10 kB)\n",
            "Requirement already satisfied: certifi>=2017.4.17 in /usr/local/lib/python3.7/dist-packages (from requests>=2.18.4->azure-core<2.0.0,>=1.0.0->azure-identity->microsoftvision) (2021.5.30)\n",
            "Requirement already satisfied: chardet<4,>=3.0.2 in /usr/local/lib/python3.7/dist-packages (from requests>=2.18.4->azure-core<2.0.0,>=1.0.0->azure-identity->microsoftvision) (3.0.4)\n",
            "Requirement already satisfied: idna<3,>=2.5 in /usr/local/lib/python3.7/dist-packages (from requests>=2.18.4->azure-core<2.0.0,>=1.0.0->azure-identity->microsoftvision) (2.10)\n",
            "Requirement already satisfied: urllib3!=1.25.0,!=1.25.1,<1.26,>=1.21.1 in /usr/local/lib/python3.7/dist-packages (from requests>=2.18.4->azure-core<2.0.0,>=1.0.0->azure-identity->microsoftvision) (1.24.3)\n",
            "Collecting msrest>=0.6.18\n",
            "  Downloading msrest-0.6.21-py2.py3-none-any.whl (85 kB)\n",
            "\u001b[K     |████████████████████████████████| 85 kB 4.9 MB/s \n",
            "\u001b[?25hRequirement already satisfied: requests-oauthlib>=0.5.0 in /usr/local/lib/python3.7/dist-packages (from msrest>=0.6.18->azure-storage-blob->microsoftvision) (1.3.0)\n",
            "Collecting isodate>=0.6.0\n",
            "  Downloading isodate-0.6.0-py2.py3-none-any.whl (45 kB)\n",
            "\u001b[K     |████████████████████████████████| 45 kB 4.0 MB/s \n",
            "\u001b[?25hRequirement already satisfied: oauthlib>=3.0.0 in /usr/local/lib/python3.7/dist-packages (from requests-oauthlib>=0.5.0->msrest>=0.6.18->azure-storage-blob->microsoftvision) (3.1.1)\n",
            "Installing collected packages: PyJWT, cryptography, portalocker, msal, isodate, msrest, msal-extensions, azure-core, azure-storage-blob, azure-identity, microsoftvision\n",
            "Successfully installed PyJWT-2.1.0 azure-core-1.16.0 azure-identity-1.6.0 azure-storage-blob-12.8.1 cryptography-3.4.7 isodate-0.6.0 microsoftvision-1.0.5 msal-1.13.0 msal-extensions-0.3.0 msrest-0.6.21 portalocker-1.7.1\n"
          ],
          "name": "stdout"
        }
      ]
    },
    {
      "cell_type": "markdown",
      "metadata": {
        "id": "AequdA8Xo80o"
      },
      "source": [
        "## **4.2 Preprocess the image required for Microsoft Vision**"
      ]
    },
    {
      "cell_type": "code",
      "metadata": {
        "id": "nJXjH5ehif3f"
      },
      "source": [
        "class Preprocess:\n",
        "  '''\n",
        "  preprocess is the class for preprocessing the \n",
        "  data that is feed into the vision module\n",
        "  these are requirements of the vision\n",
        "  module\n",
        "  '''\n",
        "  def __init__(self):\n",
        "    self.Preprocess = transforms.Compose([\n",
        "                                          transforms.Resize(224),\n",
        "                                          transforms.CenterCrop(224),\n",
        "                                          transforms.ToTensor(),\n",
        "                                          transforms.Normalize(mean = [0.406, 0.456, 0.485], std=[0.229, 0.224, 0.225]),\n",
        "                                          \n",
        "    ])\n",
        "\n",
        "  def __call__(self, x):\n",
        "    return self.Preprocess(x)[[2,1,0],:,:]"
      ],
      "execution_count": 9,
      "outputs": []
    },
    {
      "cell_type": "code",
      "metadata": {
        "id": "2wBma_cRkcvm"
      },
      "source": [
        "# Read the training, validation and test dataset\n",
        "\n",
        "train_dataset = datasets.ImageFolder(train_dir, transform=Preprocess())\n",
        "val_dataset = datasets.ImageFolder(validation_dir, transform=Preprocess())\n",
        "test_dataset = datasets.ImageFolder(test_dir, transform=Preprocess())"
      ],
      "execution_count": 10,
      "outputs": []
    },
    {
      "cell_type": "code",
      "metadata": {
        "id": "K3plp6quzPfb",
        "colab": {
          "base_uri": "https://localhost:8080/"
        },
        "outputId": "c55e4921-450e-4115-c6eb-02215dac0018"
      },
      "source": [
        "# get the classes in the dataset\n",
        "\n",
        "classes = tuple(train_dataset.classes)\n",
        "print(f'Length of classes - {len(classes)}')\n",
        "print(f'The classes - {classes}')"
      ],
      "execution_count": 10,
      "outputs": [
        {
          "output_type": "stream",
          "text": [
            "Length of classes - 81\n",
            "The classes - ('Apple Braeburn', 'Apple Golden 1', 'Apple Golden 2', 'Apple Golden 3', 'Apple Granny Smith', 'Apple Red 1', 'Apple Red 2', 'Apple Red 3', 'Apple Red Delicious', 'Apple Red Yellow', 'Apricot', 'Avocado', 'Avocado ripe', 'Banana', 'Banana Red', 'Cactus fruit', 'Cantaloupe 1', 'Cantaloupe 2', 'Carambula', 'Cherry 1', 'Cherry 2', 'Cherry Rainier', 'Cherry Wax Black', 'Cherry Wax Red', 'Cherry Wax Yellow', 'Clementine', 'Cocos', 'Dates', 'Granadilla', 'Grape Pink', 'Grape White', 'Grape White 2', 'Grapefruit Pink', 'Grapefruit White', 'Guava', 'Huckleberry', 'Kaki', 'Kiwi', 'Kumquats', 'Lemon', 'Lemon Meyer', 'Limes', 'Lychee', 'Mandarine', 'Mango', 'Maracuja', 'Melon Piel de Sapo', 'Mulberry', 'Nectarine', 'Orange', 'Papaya', 'Passion Fruit', 'Peach', 'Peach Flat', 'Pear', 'Pear Abate', 'Pear Monster', 'Pear Williams', 'Pepino', 'Physalis', 'Physalis with Husk', 'Pineapple', 'Pineapple Mini', 'Pitahaya Red', 'Plum', 'Pomegranate', 'Quince', 'Rambutan', 'Raspberry', 'Salak', 'Strawberry', 'Strawberry Wedge', 'Tamarillo', 'Tangelo', 'Tomato 1', 'Tomato 2', 'Tomato 3', 'Tomato 4', 'Tomato Cherry Red', 'Tomato Maroon', 'Walnut')\n"
          ],
          "name": "stdout"
        }
      ]
    },
    {
      "cell_type": "markdown",
      "metadata": {
        "id": "pXaROYWTVI-Z"
      },
      "source": [
        "## **4.3 Reading Microsoft Vision Module**"
      ]
    },
    {
      "cell_type": "code",
      "metadata": {
        "colab": {
          "base_uri": "https://localhost:8080/"
        },
        "id": "u585SjDgXGtk",
        "outputId": "d437bceb-b8e3-45f7-dfcd-7c202e5f0db9"
      },
      "source": [
        "\n",
        "model_mv = microsoftvision.models.resnet50(pretrained=True)"
      ],
      "execution_count": 11,
      "outputs": [
        {
          "output_type": "stream",
          "text": [
            "Loading Microsoft Vision pretrained model\n",
            "Model already downloaded.\n"
          ],
          "name": "stdout"
        }
      ]
    },
    {
      "cell_type": "code",
      "metadata": {
        "id": "ZtidChNJWX7U",
        "colab": {
          "base_uri": "https://localhost:8080/"
        },
        "outputId": "e1ec6da2-719c-4425-bf73-faed32fff6c0"
      },
      "source": [
        "# moving the vision model to GPU\n",
        "model_mv.cuda()\n",
        "\n",
        "# put the model in evaluation mode\n",
        "model_mv.eval()"
      ],
      "execution_count": 12,
      "outputs": [
        {
          "output_type": "execute_result",
          "data": {
            "text/plain": [
              "ResNet(\n",
              "  (conv1): Conv2d(3, 64, kernel_size=(7, 7), stride=(2, 2), padding=(3, 3), bias=False)\n",
              "  (bn1): BatchNorm2d(64, eps=1e-05, momentum=0.1, affine=True, track_running_stats=True)\n",
              "  (relu): ReLU(inplace=True)\n",
              "  (maxpool): MaxPool2d(kernel_size=3, stride=2, padding=1, dilation=1, ceil_mode=False)\n",
              "  (layer1): Sequential(\n",
              "    (0): Bottleneck(\n",
              "      (conv1): Conv2d(64, 64, kernel_size=(1, 1), stride=(1, 1), bias=False)\n",
              "      (bn1): BatchNorm2d(64, eps=1e-05, momentum=0.1, affine=True, track_running_stats=True)\n",
              "      (conv2): Conv2d(64, 64, kernel_size=(3, 3), stride=(1, 1), padding=(1, 1), bias=False)\n",
              "      (bn2): BatchNorm2d(64, eps=1e-05, momentum=0.1, affine=True, track_running_stats=True)\n",
              "      (conv3): Conv2d(64, 256, kernel_size=(1, 1), stride=(1, 1), bias=False)\n",
              "      (bn3): BatchNorm2d(256, eps=1e-05, momentum=0.1, affine=True, track_running_stats=True)\n",
              "      (relu): ReLU(inplace=True)\n",
              "      (downsample): Sequential(\n",
              "        (0): Conv2d(64, 256, kernel_size=(1, 1), stride=(1, 1), bias=False)\n",
              "        (1): BatchNorm2d(256, eps=1e-05, momentum=0.1, affine=True, track_running_stats=True)\n",
              "      )\n",
              "    )\n",
              "    (1): Bottleneck(\n",
              "      (conv1): Conv2d(256, 64, kernel_size=(1, 1), stride=(1, 1), bias=False)\n",
              "      (bn1): BatchNorm2d(64, eps=1e-05, momentum=0.1, affine=True, track_running_stats=True)\n",
              "      (conv2): Conv2d(64, 64, kernel_size=(3, 3), stride=(1, 1), padding=(1, 1), bias=False)\n",
              "      (bn2): BatchNorm2d(64, eps=1e-05, momentum=0.1, affine=True, track_running_stats=True)\n",
              "      (conv3): Conv2d(64, 256, kernel_size=(1, 1), stride=(1, 1), bias=False)\n",
              "      (bn3): BatchNorm2d(256, eps=1e-05, momentum=0.1, affine=True, track_running_stats=True)\n",
              "      (relu): ReLU(inplace=True)\n",
              "    )\n",
              "    (2): Bottleneck(\n",
              "      (conv1): Conv2d(256, 64, kernel_size=(1, 1), stride=(1, 1), bias=False)\n",
              "      (bn1): BatchNorm2d(64, eps=1e-05, momentum=0.1, affine=True, track_running_stats=True)\n",
              "      (conv2): Conv2d(64, 64, kernel_size=(3, 3), stride=(1, 1), padding=(1, 1), bias=False)\n",
              "      (bn2): BatchNorm2d(64, eps=1e-05, momentum=0.1, affine=True, track_running_stats=True)\n",
              "      (conv3): Conv2d(64, 256, kernel_size=(1, 1), stride=(1, 1), bias=False)\n",
              "      (bn3): BatchNorm2d(256, eps=1e-05, momentum=0.1, affine=True, track_running_stats=True)\n",
              "      (relu): ReLU(inplace=True)\n",
              "    )\n",
              "  )\n",
              "  (layer2): Sequential(\n",
              "    (0): Bottleneck(\n",
              "      (conv1): Conv2d(256, 128, kernel_size=(1, 1), stride=(1, 1), bias=False)\n",
              "      (bn1): BatchNorm2d(128, eps=1e-05, momentum=0.1, affine=True, track_running_stats=True)\n",
              "      (conv2): Conv2d(128, 128, kernel_size=(3, 3), stride=(2, 2), padding=(1, 1), bias=False)\n",
              "      (bn2): BatchNorm2d(128, eps=1e-05, momentum=0.1, affine=True, track_running_stats=True)\n",
              "      (conv3): Conv2d(128, 512, kernel_size=(1, 1), stride=(1, 1), bias=False)\n",
              "      (bn3): BatchNorm2d(512, eps=1e-05, momentum=0.1, affine=True, track_running_stats=True)\n",
              "      (relu): ReLU(inplace=True)\n",
              "      (downsample): Sequential(\n",
              "        (0): Conv2d(256, 512, kernel_size=(1, 1), stride=(2, 2), bias=False)\n",
              "        (1): BatchNorm2d(512, eps=1e-05, momentum=0.1, affine=True, track_running_stats=True)\n",
              "      )\n",
              "    )\n",
              "    (1): Bottleneck(\n",
              "      (conv1): Conv2d(512, 128, kernel_size=(1, 1), stride=(1, 1), bias=False)\n",
              "      (bn1): BatchNorm2d(128, eps=1e-05, momentum=0.1, affine=True, track_running_stats=True)\n",
              "      (conv2): Conv2d(128, 128, kernel_size=(3, 3), stride=(1, 1), padding=(1, 1), bias=False)\n",
              "      (bn2): BatchNorm2d(128, eps=1e-05, momentum=0.1, affine=True, track_running_stats=True)\n",
              "      (conv3): Conv2d(128, 512, kernel_size=(1, 1), stride=(1, 1), bias=False)\n",
              "      (bn3): BatchNorm2d(512, eps=1e-05, momentum=0.1, affine=True, track_running_stats=True)\n",
              "      (relu): ReLU(inplace=True)\n",
              "    )\n",
              "    (2): Bottleneck(\n",
              "      (conv1): Conv2d(512, 128, kernel_size=(1, 1), stride=(1, 1), bias=False)\n",
              "      (bn1): BatchNorm2d(128, eps=1e-05, momentum=0.1, affine=True, track_running_stats=True)\n",
              "      (conv2): Conv2d(128, 128, kernel_size=(3, 3), stride=(1, 1), padding=(1, 1), bias=False)\n",
              "      (bn2): BatchNorm2d(128, eps=1e-05, momentum=0.1, affine=True, track_running_stats=True)\n",
              "      (conv3): Conv2d(128, 512, kernel_size=(1, 1), stride=(1, 1), bias=False)\n",
              "      (bn3): BatchNorm2d(512, eps=1e-05, momentum=0.1, affine=True, track_running_stats=True)\n",
              "      (relu): ReLU(inplace=True)\n",
              "    )\n",
              "    (3): Bottleneck(\n",
              "      (conv1): Conv2d(512, 128, kernel_size=(1, 1), stride=(1, 1), bias=False)\n",
              "      (bn1): BatchNorm2d(128, eps=1e-05, momentum=0.1, affine=True, track_running_stats=True)\n",
              "      (conv2): Conv2d(128, 128, kernel_size=(3, 3), stride=(1, 1), padding=(1, 1), bias=False)\n",
              "      (bn2): BatchNorm2d(128, eps=1e-05, momentum=0.1, affine=True, track_running_stats=True)\n",
              "      (conv3): Conv2d(128, 512, kernel_size=(1, 1), stride=(1, 1), bias=False)\n",
              "      (bn3): BatchNorm2d(512, eps=1e-05, momentum=0.1, affine=True, track_running_stats=True)\n",
              "      (relu): ReLU(inplace=True)\n",
              "    )\n",
              "  )\n",
              "  (layer3): Sequential(\n",
              "    (0): Bottleneck(\n",
              "      (conv1): Conv2d(512, 256, kernel_size=(1, 1), stride=(1, 1), bias=False)\n",
              "      (bn1): BatchNorm2d(256, eps=1e-05, momentum=0.1, affine=True, track_running_stats=True)\n",
              "      (conv2): Conv2d(256, 256, kernel_size=(3, 3), stride=(2, 2), padding=(1, 1), bias=False)\n",
              "      (bn2): BatchNorm2d(256, eps=1e-05, momentum=0.1, affine=True, track_running_stats=True)\n",
              "      (conv3): Conv2d(256, 1024, kernel_size=(1, 1), stride=(1, 1), bias=False)\n",
              "      (bn3): BatchNorm2d(1024, eps=1e-05, momentum=0.1, affine=True, track_running_stats=True)\n",
              "      (relu): ReLU(inplace=True)\n",
              "      (downsample): Sequential(\n",
              "        (0): Conv2d(512, 1024, kernel_size=(1, 1), stride=(2, 2), bias=False)\n",
              "        (1): BatchNorm2d(1024, eps=1e-05, momentum=0.1, affine=True, track_running_stats=True)\n",
              "      )\n",
              "    )\n",
              "    (1): Bottleneck(\n",
              "      (conv1): Conv2d(1024, 256, kernel_size=(1, 1), stride=(1, 1), bias=False)\n",
              "      (bn1): BatchNorm2d(256, eps=1e-05, momentum=0.1, affine=True, track_running_stats=True)\n",
              "      (conv2): Conv2d(256, 256, kernel_size=(3, 3), stride=(1, 1), padding=(1, 1), bias=False)\n",
              "      (bn2): BatchNorm2d(256, eps=1e-05, momentum=0.1, affine=True, track_running_stats=True)\n",
              "      (conv3): Conv2d(256, 1024, kernel_size=(1, 1), stride=(1, 1), bias=False)\n",
              "      (bn3): BatchNorm2d(1024, eps=1e-05, momentum=0.1, affine=True, track_running_stats=True)\n",
              "      (relu): ReLU(inplace=True)\n",
              "    )\n",
              "    (2): Bottleneck(\n",
              "      (conv1): Conv2d(1024, 256, kernel_size=(1, 1), stride=(1, 1), bias=False)\n",
              "      (bn1): BatchNorm2d(256, eps=1e-05, momentum=0.1, affine=True, track_running_stats=True)\n",
              "      (conv2): Conv2d(256, 256, kernel_size=(3, 3), stride=(1, 1), padding=(1, 1), bias=False)\n",
              "      (bn2): BatchNorm2d(256, eps=1e-05, momentum=0.1, affine=True, track_running_stats=True)\n",
              "      (conv3): Conv2d(256, 1024, kernel_size=(1, 1), stride=(1, 1), bias=False)\n",
              "      (bn3): BatchNorm2d(1024, eps=1e-05, momentum=0.1, affine=True, track_running_stats=True)\n",
              "      (relu): ReLU(inplace=True)\n",
              "    )\n",
              "    (3): Bottleneck(\n",
              "      (conv1): Conv2d(1024, 256, kernel_size=(1, 1), stride=(1, 1), bias=False)\n",
              "      (bn1): BatchNorm2d(256, eps=1e-05, momentum=0.1, affine=True, track_running_stats=True)\n",
              "      (conv2): Conv2d(256, 256, kernel_size=(3, 3), stride=(1, 1), padding=(1, 1), bias=False)\n",
              "      (bn2): BatchNorm2d(256, eps=1e-05, momentum=0.1, affine=True, track_running_stats=True)\n",
              "      (conv3): Conv2d(256, 1024, kernel_size=(1, 1), stride=(1, 1), bias=False)\n",
              "      (bn3): BatchNorm2d(1024, eps=1e-05, momentum=0.1, affine=True, track_running_stats=True)\n",
              "      (relu): ReLU(inplace=True)\n",
              "    )\n",
              "    (4): Bottleneck(\n",
              "      (conv1): Conv2d(1024, 256, kernel_size=(1, 1), stride=(1, 1), bias=False)\n",
              "      (bn1): BatchNorm2d(256, eps=1e-05, momentum=0.1, affine=True, track_running_stats=True)\n",
              "      (conv2): Conv2d(256, 256, kernel_size=(3, 3), stride=(1, 1), padding=(1, 1), bias=False)\n",
              "      (bn2): BatchNorm2d(256, eps=1e-05, momentum=0.1, affine=True, track_running_stats=True)\n",
              "      (conv3): Conv2d(256, 1024, kernel_size=(1, 1), stride=(1, 1), bias=False)\n",
              "      (bn3): BatchNorm2d(1024, eps=1e-05, momentum=0.1, affine=True, track_running_stats=True)\n",
              "      (relu): ReLU(inplace=True)\n",
              "    )\n",
              "    (5): Bottleneck(\n",
              "      (conv1): Conv2d(1024, 256, kernel_size=(1, 1), stride=(1, 1), bias=False)\n",
              "      (bn1): BatchNorm2d(256, eps=1e-05, momentum=0.1, affine=True, track_running_stats=True)\n",
              "      (conv2): Conv2d(256, 256, kernel_size=(3, 3), stride=(1, 1), padding=(1, 1), bias=False)\n",
              "      (bn2): BatchNorm2d(256, eps=1e-05, momentum=0.1, affine=True, track_running_stats=True)\n",
              "      (conv3): Conv2d(256, 1024, kernel_size=(1, 1), stride=(1, 1), bias=False)\n",
              "      (bn3): BatchNorm2d(1024, eps=1e-05, momentum=0.1, affine=True, track_running_stats=True)\n",
              "      (relu): ReLU(inplace=True)\n",
              "    )\n",
              "  )\n",
              "  (layer4): Sequential(\n",
              "    (0): Bottleneck(\n",
              "      (conv1): Conv2d(1024, 512, kernel_size=(1, 1), stride=(1, 1), bias=False)\n",
              "      (bn1): BatchNorm2d(512, eps=1e-05, momentum=0.1, affine=True, track_running_stats=True)\n",
              "      (conv2): Conv2d(512, 512, kernel_size=(3, 3), stride=(2, 2), padding=(1, 1), bias=False)\n",
              "      (bn2): BatchNorm2d(512, eps=1e-05, momentum=0.1, affine=True, track_running_stats=True)\n",
              "      (conv3): Conv2d(512, 2048, kernel_size=(1, 1), stride=(1, 1), bias=False)\n",
              "      (bn3): BatchNorm2d(2048, eps=1e-05, momentum=0.1, affine=True, track_running_stats=True)\n",
              "      (relu): ReLU(inplace=True)\n",
              "      (downsample): Sequential(\n",
              "        (0): Conv2d(1024, 2048, kernel_size=(1, 1), stride=(2, 2), bias=False)\n",
              "        (1): BatchNorm2d(2048, eps=1e-05, momentum=0.1, affine=True, track_running_stats=True)\n",
              "      )\n",
              "    )\n",
              "    (1): Bottleneck(\n",
              "      (conv1): Conv2d(2048, 512, kernel_size=(1, 1), stride=(1, 1), bias=False)\n",
              "      (bn1): BatchNorm2d(512, eps=1e-05, momentum=0.1, affine=True, track_running_stats=True)\n",
              "      (conv2): Conv2d(512, 512, kernel_size=(3, 3), stride=(1, 1), padding=(1, 1), bias=False)\n",
              "      (bn2): BatchNorm2d(512, eps=1e-05, momentum=0.1, affine=True, track_running_stats=True)\n",
              "      (conv3): Conv2d(512, 2048, kernel_size=(1, 1), stride=(1, 1), bias=False)\n",
              "      (bn3): BatchNorm2d(2048, eps=1e-05, momentum=0.1, affine=True, track_running_stats=True)\n",
              "      (relu): ReLU(inplace=True)\n",
              "    )\n",
              "    (2): Bottleneck(\n",
              "      (conv1): Conv2d(2048, 512, kernel_size=(1, 1), stride=(1, 1), bias=False)\n",
              "      (bn1): BatchNorm2d(512, eps=1e-05, momentum=0.1, affine=True, track_running_stats=True)\n",
              "      (conv2): Conv2d(512, 512, kernel_size=(3, 3), stride=(1, 1), padding=(1, 1), bias=False)\n",
              "      (bn2): BatchNorm2d(512, eps=1e-05, momentum=0.1, affine=True, track_running_stats=True)\n",
              "      (conv3): Conv2d(512, 2048, kernel_size=(1, 1), stride=(1, 1), bias=False)\n",
              "      (bn3): BatchNorm2d(2048, eps=1e-05, momentum=0.1, affine=True, track_running_stats=True)\n",
              "      (relu): ReLU(inplace=True)\n",
              "    )\n",
              "  )\n",
              "  (avgpool): AdaptiveAvgPool2d(output_size=(1, 1))\n",
              ")"
            ]
          },
          "metadata": {
            "tags": []
          },
          "execution_count": 12
        }
      ]
    },
    {
      "cell_type": "markdown",
      "metadata": {
        "id": "O_O3yua3V1yG"
      },
      "source": [
        "## **4.4 Feature Extraction Method**\n",
        "\n",
        "Features are extracted from the input data(images) using a single forward pass through Microsoft Vision Model using the below defined functions"
      ]
    },
    {
      "cell_type": "code",
      "metadata": {
        "id": "EDNETWQVXV6z"
      },
      "source": [
        "'''\n",
        "Parameters\n",
        "\n",
        "input\n",
        "  >dataset - obeject that can read by data loader\n",
        "  >model - Vision model in this case\n",
        "\n",
        "output\n",
        " >features - (1,2048)\n",
        " >labels - (1)\n",
        " \n",
        "'''\n",
        "def get_features(dataset, model):\n",
        "  all_features = []\n",
        "  all_labels = []\n",
        "\n",
        "\n",
        "  with torch.no_grad():\n",
        "    for images, labels in progressbar(DataLoader(dataset, batch_size=120, num_workers = 8)):\n",
        "      images = images.cuda()\n",
        "      labels = labels.cuda()\n",
        "      features = model(images)\n",
        "\n",
        "      all_features.append(features)\n",
        "      all_labels.append(labels)\n",
        "\n",
        "  return torch.cat(all_features).cpu(),torch.cat(all_labels).cpu()"
      ],
      "execution_count": 13,
      "outputs": []
    },
    {
      "cell_type": "code",
      "metadata": {
        "colab": {
          "base_uri": "https://localhost:8080/"
        },
        "id": "CvCTivQejG3u",
        "outputId": "bf3a07fe-0496-4d5a-ad53-fb8e5eae36ee"
      },
      "source": [
        "# get the train data features from the user defined funtion\n",
        "\n",
        "train_features, train_labels = get_features(train_dataset, model_mv)"
      ],
      "execution_count": 14,
      "outputs": [
        {
          "output_type": "stream",
          "text": [
            "/usr/local/lib/python3.7/dist-packages/torch/utils/data/dataloader.py:481: UserWarning: This DataLoader will create 8 worker processes in total. Our suggested max number of worker in current system is 2, which is smaller than what this DataLoader is going to create. Please be aware that excessive worker creation might get DataLoader running slow or even freeze, lower the worker number to avoid potential slowness/freeze if necessary.\n",
            "  cpuset_checked))\n",
            "N/A% (0 of 345) |                        | Elapsed Time: 0:00:00 ETA:  --:--:--/usr/local/lib/python3.7/dist-packages/torch/nn/functional.py:718: UserWarning: Named tensors and all their associated APIs are an experimental feature and subject to change. Please do not use them for anything important until they are released as stable. (Triggered internally at  /pytorch/c10/core/TensorImpl.h:1156.)\n",
            "  return torch.max_pool2d(input, kernel_size, stride, padding, dilation, ceil_mode)\n",
            "100% (345 of 345) |######################| Elapsed Time: 0:02:01 Time:  0:02:01\n"
          ],
          "name": "stderr"
        }
      ]
    },
    {
      "cell_type": "code",
      "metadata": {
        "colab": {
          "base_uri": "https://localhost:8080/"
        },
        "id": "Uk4HDJe2zLu-",
        "outputId": "f9fb5a9e-16b4-449b-842f-0d265cd6fcba"
      },
      "source": [
        "# get the validation data features and test data features from the user defined funtion\n",
        "\n",
        "val_features, val_labels = get_features(val_dataset, model_mv)\n",
        "test_features, test_labels = get_features(test_dataset, model_mv)"
      ],
      "execution_count": 15,
      "outputs": [
        {
          "output_type": "stream",
          "text": [
            "/usr/local/lib/python3.7/dist-packages/torch/utils/data/dataloader.py:481: UserWarning: This DataLoader will create 8 worker processes in total. Our suggested max number of worker in current system is 2, which is smaller than what this DataLoader is going to create. Please be aware that excessive worker creation might get DataLoader running slow or even freeze, lower the worker number to avoid potential slowness/freeze if necessary.\n",
            "  cpuset_checked))\n",
            "100% (69 of 69) |########################| Elapsed Time: 0:00:25 Time:  0:00:25\n",
            "100% (116 of 116) |######################| Elapsed Time: 0:00:43 Time:  0:00:43\n"
          ],
          "name": "stderr"
        }
      ]
    },
    {
      "cell_type": "markdown",
      "metadata": {
        "id": "aKKIKeP9XPDG"
      },
      "source": [
        "# **5. Packaging the Features for training the model**\n",
        "\n",
        "Features has to be preprocessed to feed it to the network for training."
      ]
    },
    {
      "cell_type": "code",
      "metadata": {
        "id": "4i7B_jw4fdu3"
      },
      "source": [
        "# train features preprocessing\n",
        "\n",
        "train_labels = train_labels.to(dtype=torch.float)\n",
        "train = TensorDataset( train_features, train_labels)\n",
        "\n",
        "# Create a data loader from the features\n",
        "train_loader = DataLoader(train, batch_size= 40,shuffle=True)"
      ],
      "execution_count": 16,
      "outputs": []
    },
    {
      "cell_type": "code",
      "metadata": {
        "id": "ksf2DY0Zfq66"
      },
      "source": [
        "# val features preprocessing\n",
        "\n",
        "val_labels = val_labels.to(dtype=torch.float)\n",
        "val = TensorDataset( Tensor(val_features), Tensor(val_labels))\n",
        "\n",
        "# Create a data loader from the features\n",
        "val_loader = DataLoader(val, batch_size= 30,shuffle=True)"
      ],
      "execution_count": 17,
      "outputs": []
    },
    {
      "cell_type": "code",
      "metadata": {
        "id": "zMXbUOElNqKG"
      },
      "source": [
        "# test features preprocessing\n",
        "\n",
        "test_labels = test_labels.to(dtype=torch.float)\n",
        "test = TensorDataset( Tensor(test_features), Tensor(test_labels))\n",
        "\n",
        "# Create a data loader from the features\n",
        "test_loader = DataLoader(test, batch_size= 5)"
      ],
      "execution_count": 18,
      "outputs": []
    },
    {
      "cell_type": "code",
      "metadata": {
        "id": "j5ocM72jNJGp"
      },
      "source": [
        "# Create dictionary for sizes and dataloader\n",
        "\n",
        "dataset_sizes = {'train':len(train_labels),'val':len(val_labels),'test':len(test_labels)}\n",
        "dataloader = {\"train\":train_loader,\"val\":val_loader,\"test\":test_loader}"
      ],
      "execution_count": 19,
      "outputs": []
    },
    {
      "cell_type": "markdown",
      "metadata": {
        "id": "7LZlB1CSItch"
      },
      "source": [
        "# **6. Custom Fully connected Model**"
      ]
    },
    {
      "cell_type": "markdown",
      "metadata": {
        "id": "-hktr6QAsn8P"
      },
      "source": [
        "## **6.1 Defne the Network**"
      ]
    },
    {
      "cell_type": "code",
      "metadata": {
        "id": "K3-075iasSjx"
      },
      "source": [
        "import torch.nn as nn\n",
        "import torch.nn.functional as F\n",
        "\n",
        "class Network(nn.Module):\n",
        "    def __init__(self):\n",
        "        super(Network, self).__init__()\n",
        "        self.fc1 = nn.Linear(2048, 1024)\n",
        "        self.fc2 = nn.Linear(1024, 512)\n",
        "        self.fc3 = nn.Linear(512,256)\n",
        "        self.out = nn.Linear(256, 81)\n",
        "        self.relu1 = nn.LeakyReLU()\n",
        "        self.soft = nn.Softmax()\n",
        "\n",
        "    def forward(self, x):\n",
        "        x = self.relu1(self.fc1(x))\n",
        "        x = self.relu1(self.fc2(x))\n",
        "        x = self.relu1(self.fc3(x))\n",
        "        x = self.out(x)\n",
        "        return x\n",
        "\n",
        "#instantiate our Neural Network class and moving it to the GPU\n",
        "network =  Network().cuda()"
      ],
      "execution_count": 20,
      "outputs": []
    },
    {
      "cell_type": "markdown",
      "metadata": {
        "id": "u5QOLBpds1Ag"
      },
      "source": [
        "## **6.2 Intialize the Network**"
      ]
    },
    {
      "cell_type": "code",
      "metadata": {
        "id": "aE6WN9kBdBmw"
      },
      "source": [
        "\n",
        "#initialize Cross Entropy loss function\n",
        "criterion = nn.CrossEntropyLoss()\n",
        "\n",
        "\n",
        "# set Stochastic Gradient Descent as optimizer function\n",
        "optimizer = optim.RMSprop(network.parameters(), lr=0.00005) # Optimizer\n",
        "\n"
      ],
      "execution_count": 21,
      "outputs": []
    },
    {
      "cell_type": "markdown",
      "metadata": {
        "id": "lQUN7l99MJqy"
      },
      "source": [
        "## **6.3. Define the Method for Training**"
      ]
    },
    {
      "cell_type": "code",
      "metadata": {
        "id": "GkezZqlb05VU"
      },
      "source": [
        "device = 'cuda'\n",
        "def train_model(model, criterion, optimizer, num_epochs=20):\n",
        "    since = time.time()\n",
        "\n",
        "    best_model_wts = copy.deepcopy(model.state_dict())\n",
        "    best_acc = 0.0\n",
        "\n",
        "    for epoch in range(num_epochs):\n",
        "        print('Epoch {}/{}'.format(epoch, num_epochs - 1))\n",
        "        print('-' * 10)\n",
        "\n",
        "        # Each epoch has a training and validation phase\n",
        "        for phase in ['train', 'val']:\n",
        "            if phase == 'train':\n",
        "                model.train()  # Set model to training mode\n",
        "            else:\n",
        "                model.eval()   # Set model to evaluate mode\n",
        "\n",
        "            running_loss = 0.0\n",
        "            running_corrects = 0\n",
        "\n",
        "            # Iterate over data.\n",
        "            for inputs, labels in dataloader[phase]:\n",
        "                inputs, labels = inputs.to(device), labels.to(device)\n",
        "                labels = labels.to(dtype=torch.long)\n",
        "\n",
        "                # zero the parameter gradients\n",
        "                optimizer.zero_grad()\n",
        "\n",
        "                # forward\n",
        "                # track history if only in train\n",
        "                with torch.set_grad_enabled(phase == 'train'):\n",
        "                    outputs = model(inputs)\n",
        "                    _, preds = torch.max(outputs, 1)\n",
        "                    loss = criterion(outputs, labels)\n",
        "\n",
        "                    # backward + optimize only if in training phase\n",
        "                    if phase == 'train':\n",
        "                      loss.backward()\n",
        "                      optimizer.step()\n",
        "\n",
        "                # statistics\n",
        "                running_loss += loss.item() * inputs.size(0)\n",
        "                running_corrects += torch.sum(preds == labels.data)\n",
        "\n",
        "            epoch_loss = running_loss / dataset_sizes[phase]\n",
        "            epoch_acc = running_corrects.double() / dataset_sizes[phase]\n",
        "\n",
        "            print('{} Loss: {:.4f} Acc: {:.4f}'.format(\n",
        "                phase, epoch_loss, epoch_acc))\n",
        "\n",
        "            # deep copy the model\n",
        "            if phase == 'val' and epoch_acc > best_acc:\n",
        "                best_acc = epoch_acc\n",
        "                best_model_wts = copy.deepcopy(model.state_dict())\n",
        "\n",
        "\n",
        "    time_elapsed = time.time() - since\n",
        "    print('Training complete in {:.0f}m {:.0f}s'.format(\n",
        "        time_elapsed // 60, time_elapsed % 60))\n",
        "    print('Best val Acc: {:4f}'.format(best_acc))\n",
        "\n",
        "    # load best model weights\n",
        "    model.load_state_dict(best_model_wts)\n",
        "    return model"
      ],
      "execution_count": 22,
      "outputs": []
    },
    {
      "cell_type": "markdown",
      "metadata": {
        "id": "S67id2_JMgeh"
      },
      "source": [
        "# **7. Training the Model**"
      ]
    },
    {
      "cell_type": "code",
      "metadata": {
        "colab": {
          "base_uri": "https://localhost:8080/"
        },
        "id": "mJP5Mb-GLvV8",
        "outputId": "652454c4-3f04-4fc7-e8e8-2456a5959631"
      },
      "source": [
        "start = time.time()\n",
        "model_ft = train_model(network, criterion,optimizer,num_epochs=10)\n",
        "print(f'Time taken for the Training - {time.time()- start}')"
      ],
      "execution_count": 23,
      "outputs": [
        {
          "output_type": "stream",
          "text": [
            "Epoch 0/9\n",
            "----------\n",
            "train Loss: 0.4432 Acc: 0.9164\n",
            "val Loss: 0.0765 Acc: 0.9847\n",
            "Epoch 1/9\n",
            "----------\n",
            "train Loss: 0.0380 Acc: 0.9902\n",
            "val Loss: 0.0207 Acc: 0.9921\n",
            "Epoch 2/9\n",
            "----------\n",
            "train Loss: 0.0198 Acc: 0.9933\n",
            "val Loss: 0.0133 Acc: 0.9942\n",
            "Epoch 3/9\n",
            "----------\n",
            "train Loss: 0.0139 Acc: 0.9942\n",
            "val Loss: 0.0112 Acc: 0.9936\n",
            "Epoch 4/9\n",
            "----------\n",
            "train Loss: 0.0120 Acc: 0.9940\n",
            "val Loss: 0.0106 Acc: 0.9939\n",
            "Epoch 5/9\n",
            "----------\n",
            "train Loss: 0.0104 Acc: 0.9946\n",
            "val Loss: 0.0115 Acc: 0.9933\n",
            "Epoch 6/9\n",
            "----------\n",
            "train Loss: 0.0103 Acc: 0.9945\n",
            "val Loss: 0.0089 Acc: 0.9942\n",
            "Epoch 7/9\n",
            "----------\n",
            "train Loss: 0.0102 Acc: 0.9944\n",
            "val Loss: 0.0096 Acc: 0.9937\n",
            "Epoch 8/9\n",
            "----------\n",
            "train Loss: 0.0098 Acc: 0.9945\n",
            "val Loss: 0.0091 Acc: 0.9943\n",
            "Epoch 9/9\n",
            "----------\n",
            "train Loss: 0.0086 Acc: 0.9945\n",
            "val Loss: 0.0090 Acc: 0.9944\n",
            "Training complete in 0m 26s\n",
            "Best val Acc: 0.994420\n",
            "Time taken for the Training - 25.942964792251587\n"
          ],
          "name": "stdout"
        }
      ]
    },
    {
      "cell_type": "markdown",
      "metadata": {
        "id": "yAn-bOfeMkgX"
      },
      "source": [
        "# **8. Test Prediction**"
      ]
    },
    {
      "cell_type": "code",
      "metadata": {
        "colab": {
          "base_uri": "https://localhost:8080/"
        },
        "id": "2sLYjpwlbe3_",
        "outputId": "43c9a388-dfee-4eff-bfed-a264a93380dc"
      },
      "source": [
        "correct = 0\n",
        "total = 0\n",
        "with torch.no_grad():\n",
        "    for data in dataloader['test']:\n",
        "        images, labels = data\n",
        "        images, labels = images.to(device), labels.to(device)\n",
        "        outputs = model_ft(images)\n",
        "        _, predicted = torch.max(outputs.data, 1)\n",
        "        total += labels.size(0)\n",
        "        correct += (predicted == labels).sum().item()\n",
        "\n",
        "print('Accuracy of the network on the test images: %d %%' % (\n",
        "    100 * correct / total))"
      ],
      "execution_count": 24,
      "outputs": [
        {
          "output_type": "stream",
          "text": [
            "Accuracy of the network on the test images: 98 %\n"
          ],
          "name": "stdout"
        }
      ]
    },
    {
      "cell_type": "markdown",
      "metadata": {
        "id": "h3bFVu1eMsBC"
      },
      "source": [
        "# **9.Classwise Accuracy**"
      ]
    },
    {
      "cell_type": "code",
      "metadata": {
        "colab": {
          "base_uri": "https://localhost:8080/"
        },
        "id": "nWMnfjtvevyK",
        "outputId": "6de0b835-d49e-4f36-bff7-b8f9ae1fc563"
      },
      "source": [
        "class_correct = list(0. for i in range(41))\n",
        "class_total = list(0. for i in range(41))\n",
        "count = 0\n",
        "with torch.no_grad():\n",
        "    for data in dataloader['test']:\n",
        "        images, labels = data\n",
        "        images, labels = images.to(device), labels.to(device)\n",
        "        outputs = model_ft(images)\n",
        "        _, predicted = torch.max(outputs, 1)\n",
        "        c = (predicted == labels).squeeze()\n",
        "\n",
        "        count += 1\n",
        "        for i in range(5):\n",
        "          try:\n",
        "            label = int(labels[i].item())\n",
        "            class_correct[label] += c[i].item()\n",
        "            class_total[label] += 1\n",
        "          except:\n",
        "            pass\n",
        "\n",
        "Class_acc = {}\n",
        "\n",
        "for i in range(41):\n",
        "    print('Accuracy of %5s : %2d %%' % (\n",
        "        classes[i], 100 * class_correct[i] / class_total[i]))\n",
        "    Class_acc[classes[i]] = 100 * class_correct[i] / class_total[i]\n",
        "\n",
        "print(\"\\n\\nSorted List of Accuracy\")\n",
        "sorted(Class_acc.items(),key=lambda x :x[1])"
      ],
      "execution_count": 25,
      "outputs": [
        {
          "output_type": "stream",
          "text": [
            "Accuracy of Apple Braeburn : 98 %\n",
            "Accuracy of Apple Golden 1 : 100 %\n",
            "Accuracy of Apple Golden 2 : 100 %\n",
            "Accuracy of Apple Golden 3 : 100 %\n",
            "Accuracy of Apple Granny Smith : 100 %\n",
            "Accuracy of Apple Red 1 : 100 %\n",
            "Accuracy of Apple Red 2 : 96 %\n",
            "Accuracy of Apple Red 3 : 90 %\n",
            "Accuracy of Apple Red Delicious : 100 %\n",
            "Accuracy of Apple Red Yellow : 100 %\n",
            "Accuracy of Apricot : 100 %\n",
            "Accuracy of Avocado : 100 %\n",
            "Accuracy of Avocado ripe : 100 %\n",
            "Accuracy of Banana : 100 %\n",
            "Accuracy of Banana Red : 100 %\n",
            "Accuracy of Cactus fruit : 100 %\n",
            "Accuracy of Cantaloupe 1 : 100 %\n",
            "Accuracy of Cantaloupe 2 : 100 %\n",
            "Accuracy of Carambula : 99 %\n",
            "Accuracy of Cherry 1 : 60 %\n",
            "Accuracy of Cherry 2 : 79 %\n",
            "Accuracy of Cherry Rainier : 100 %\n",
            "Accuracy of Cherry Wax Black : 100 %\n",
            "Accuracy of Cherry Wax Red : 100 %\n",
            "Accuracy of Cherry Wax Yellow : 100 %\n",
            "Accuracy of Clementine : 100 %\n",
            "Accuracy of Cocos : 100 %\n",
            "Accuracy of Dates : 100 %\n",
            "Accuracy of Granadilla : 100 %\n",
            "Accuracy of Grape Pink : 100 %\n",
            "Accuracy of Grape White : 100 %\n",
            "Accuracy of Grape White 2 : 100 %\n",
            "Accuracy of Grapefruit Pink : 100 %\n",
            "Accuracy of Grapefruit White : 100 %\n",
            "Accuracy of Guava : 100 %\n",
            "Accuracy of Huckleberry : 100 %\n",
            "Accuracy of  Kaki : 100 %\n",
            "Accuracy of  Kiwi : 100 %\n",
            "Accuracy of Kumquats : 100 %\n",
            "Accuracy of Lemon : 100 %\n",
            "Accuracy of Lemon Meyer : 100 %\n",
            "\n",
            "\n",
            "Sorted List of Accuracy\n"
          ],
          "name": "stdout"
        },
        {
          "output_type": "execute_result",
          "data": {
            "text/plain": [
              "[('Cherry 1', 60.97560975609756),\n",
              " ('Cherry 2', 79.26829268292683),\n",
              " ('Apple Red 3', 90.97222222222223),\n",
              " ('Apple Red 2', 96.34146341463415),\n",
              " ('Apple Braeburn', 98.78048780487805),\n",
              " ('Carambula', 99.39759036144578),\n",
              " ('Apple Golden 1', 100.0),\n",
              " ('Apple Golden 2', 100.0),\n",
              " ('Apple Golden 3', 100.0),\n",
              " ('Apple Granny Smith', 100.0),\n",
              " ('Apple Red 1', 100.0),\n",
              " ('Apple Red Delicious', 100.0),\n",
              " ('Apple Red Yellow', 100.0),\n",
              " ('Apricot', 100.0),\n",
              " ('Avocado', 100.0),\n",
              " ('Avocado ripe', 100.0),\n",
              " ('Banana', 100.0),\n",
              " ('Banana Red', 100.0),\n",
              " ('Cactus fruit', 100.0),\n",
              " ('Cantaloupe 1', 100.0),\n",
              " ('Cantaloupe 2', 100.0),\n",
              " ('Cherry Rainier', 100.0),\n",
              " ('Cherry Wax Black', 100.0),\n",
              " ('Cherry Wax Red', 100.0),\n",
              " ('Cherry Wax Yellow', 100.0),\n",
              " ('Clementine', 100.0),\n",
              " ('Cocos', 100.0),\n",
              " ('Dates', 100.0),\n",
              " ('Granadilla', 100.0),\n",
              " ('Grape Pink', 100.0),\n",
              " ('Grape White', 100.0),\n",
              " ('Grape White 2', 100.0),\n",
              " ('Grapefruit Pink', 100.0),\n",
              " ('Grapefruit White', 100.0),\n",
              " ('Guava', 100.0),\n",
              " ('Huckleberry', 100.0),\n",
              " ('Kaki', 100.0),\n",
              " ('Kiwi', 100.0),\n",
              " ('Kumquats', 100.0),\n",
              " ('Lemon', 100.0),\n",
              " ('Lemon Meyer', 100.0)]"
            ]
          },
          "metadata": {
            "tags": []
          },
          "execution_count": 25
        }
      ]
    },
    {
      "cell_type": "markdown",
      "metadata": {
        "id": "dO6VxNrdXq2X"
      },
      "source": [
        "# **10. Prediction**"
      ]
    },
    {
      "cell_type": "code",
      "metadata": {
        "id": "QPAzoJONw7Vf"
      },
      "source": [
        "def get_feat(images, model):\n",
        "  al_features = []\n",
        "\n",
        "  with torch.no_grad():\n",
        "    features = model(images)\n",
        "\n",
        "    al_features.append(features)\n",
        "  return torch.cat(al_features).cpu().numpy()"
      ],
      "execution_count": 26,
      "outputs": []
    },
    {
      "cell_type": "code",
      "metadata": {
        "colab": {
          "resources": {
            "http://localhost:8080/nbextensions/google.colab/files.js": {
              "data": "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",
              "ok": true,
              "headers": [
                [
                  "content-type",
                  "application/javascript"
                ]
              ],
              "status": 200,
              "status_text": ""
            }
          },
          "base_uri": "https://localhost:8080/",
          "height": 431
        },
        "id": "OqkvrmNe5yZh",
        "outputId": "69a13054-649b-467a-af58-dd55ed2f689b"
      },
      "source": [
        "#import microsoftvision\n",
        "from torchvision import transforms\n",
        "import torch\n",
        "from PIL import Image\n",
        "import numpy as np\n",
        "from google.colab import files\n",
        "from keras.preprocessing import image\n",
        "import cv2\n",
        "\n",
        "\n",
        "transform1 = transforms.Compose([\n",
        "                                 transforms.Resize(224),\n",
        "                                          transforms.CenterCrop(224),\n",
        "                                          transforms.ToTensor(),\n",
        "                                          transforms.Normalize(mean = [0.406, 0.456, 0.485], std=[0.229, 0.224, 0.225]),\n",
        "])\n",
        "uploaded=files.upload()\n",
        "for fn in uploaded.keys():\n",
        "\n",
        "  path='/content/' + fn\n",
        "  #train_dataset = datasets.ImageFolder(path, transform=Preprocess())\n",
        "   \n",
        "  # :numpy.ndarray \n",
        "\n",
        "  start = time.time()\n",
        "  img = cv2.imread(path)\n",
        "  imge=image.load_img(path, target_size=(150, 150),)\n",
        "  plt.imshow(imge)\n",
        "  plt.show()\n",
        "  # normalization, converted to numpy.ndarray and displayed\n",
        "  img1 = transform1(Image.fromarray(img)) \n",
        "  input = img1.unsqueeze(0).cuda()\n",
        "  input_feat = get_feat(input, model_mv)\n",
        "\n",
        "  image_data = Tensor(input_feat)\n",
        "  image_data = image_data.cuda()\n",
        "  since = time.time()\n",
        "  outputs = model_ft(image_data)\n",
        "  sm = torch.nn.Softmax()\n",
        "  probabilities = sm(outputs) \n",
        "  class_index = torch.topk(probabilities,3).indices.squeeze().tolist()\n",
        "  class_proab = torch.topk(probabilities,3).values.squeeze().tolist()\n",
        "  #print(f'Time for Model prediction - {(time.time()-since)*1000} ms')\n",
        "  print(f'Time for preprocessing and model prediction - {(time.time()-start)*1000} ms')\n",
        "  print(\"{} Proability - {}\".format(classes[class_index[0]], class_proab[0]*100))\n",
        "  print(\"{} Proability - {}\".format(classes[class_index[1]], class_proab[1]*100)) \n",
        "  print(\"{} Proability - {}\".format(classes[class_index[2]], class_proab[2]*100))  "
      ],
      "execution_count": 27,
      "outputs": [
        {
          "output_type": "display_data",
          "data": {
            "text/html": [
              "\n",
              "     <input type=\"file\" id=\"files-241745b5-78e4-4eca-a2b5-e874a3398593\" name=\"files[]\" multiple disabled\n",
              "        style=\"border:none\" />\n",
              "     <output id=\"result-241745b5-78e4-4eca-a2b5-e874a3398593\">\n",
              "      Upload widget is only available when the cell has been executed in the\n",
              "      current browser session. Please rerun this cell to enable.\n",
              "      </output>\n",
              "      <script src=\"/nbextensions/google.colab/files.js\"></script> "
            ],
            "text/plain": [
              "<IPython.core.display.HTML object>"
            ]
          },
          "metadata": {
            "tags": []
          }
        },
        {
          "output_type": "stream",
          "text": [
            "Saving 11_100.jpg to 11_100.jpg\n"
          ],
          "name": "stdout"
        },
        {
          "output_type": "display_data",
          "data": {
            "image/png": "[encoded data removed]",
            "text/plain": [
              "<Figure size 432x288 with 1 Axes>"
            ]
          },
          "metadata": {
            "tags": [],
            "needs_background": "light"
          }
        },
        {
          "output_type": "stream",
          "text": [
            "Time for preprocessing and model prediction - 380.8152675628662 ms\n",
            "Dates Proability - 100.0\n",
            "Physalis with Husk Proability - 3.454349306597493e-08\n",
            "Huckleberry Proability - 4.707810877246921e-09\n"
          ],
          "name": "stdout"
        },
        {
          "output_type": "stream",
          "text": [
            "/usr/local/lib/python3.7/dist-packages/ipykernel_launcher.py:40: UserWarning: Implicit dimension choice for softmax has been deprecated. Change the call to include dim=X as an argument.\n"
          ],
          "name": "stderr"
        }
      ]
    },
    {
      "cell_type": "markdown",
      "metadata": {
        "id": "R2Zpv40cY6FP"
      },
      "source": [
        "# **11. Conclusion**\n",
        "\n",
        "Training Accuracy after 10 Epochs - 99%<br>\n",
        "Validation Accuracy  - 99%<br>\n",
        "Testing Accuracy - 98%"
      ]
    },
    {
      "cell_type": "markdown",
      "metadata": {
        "id": "5s7B6EPOvEgN"
      },
      "source": [
        "# **12 References**\n",
        "\n",
        "* [Microsoft Vision](https://pypi.org/project/microsoftvision/)\n",
        "* Data Fruit 360 - Oltean, Mihai (2018),<br> \n",
        "“Fruits 360 dataset”, <br>\n",
        "Mendeley Data, V1, doi: 10.17632/rp73yg93n8.1\n",
        "* https://pypi.org/project/microsoftvision/"
      ]
    }
  ]
}